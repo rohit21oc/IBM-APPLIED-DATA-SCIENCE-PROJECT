{
 "cells": [
  {
   "cell_type": "markdown",
   "id": "8175b01c-91b5-46ba-9367-64163907bed4",
   "metadata": {},
   "source": [
    "# Product Demand Prediction with Machine Learning"
   ]
  },
  {
   "cell_type": "markdown",
   "id": "3a44df04-f35a-469e-b800-f9ad8d24db0c",
   "metadata": {},
   "source": [
    "### A product company plans to offer discounts on its product during the upcoming holiday season. The company wants to find the price at which its product can be a better deal compared to its competitors."
   ]
  },
  {
   "cell_type": "markdown",
   "id": "63db672f-8bb7-499f-b56b-6a5d26e24e88",
   "metadata": {},
   "source": [
    "#### Importing the Python libraries"
   ]
  },
  {
   "cell_type": "code",
   "execution_count": 1,
   "id": "6000b718-10bf-42a6-a80c-415671bbf2d2",
   "metadata": {},
   "outputs": [],
   "source": [
    "import pandas as pd\n",
    "import numpy as np\n",
    "import plotly.express as px\n",
    "import seaborn as sns\n",
    "import matplotlib.pyplot as plt\n",
    "from sklearn.model_selection import train_test_split\n",
    "from sklearn.tree import DecisionTreeRegressor\n",
    "from sklearn.linear_model import LinearRegression\n",
    "import warnings\n",
    "warnings.filterwarnings('ignore')"
   ]
  },
  {
   "cell_type": "markdown",
   "id": "8f348690-fb1c-40b8-85ee-ad5f33a87100",
   "metadata": {},
   "source": [
    "#### Data Preprocessing"
   ]
  },
  {
   "cell_type": "code",
   "execution_count": 9,
   "id": "0e6b706b-2592-4eeb-9263-362dbe931070",
   "metadata": {},
   "outputs": [],
   "source": [
    "data = pd.read_csv(\"D:\\ProductDemand.csv\")"
   ]
  },
  {
   "cell_type": "markdown",
   "id": "cbb0c807-fb8f-4137-a60f-29410c4279c8",
   "metadata": {},
   "source": [
    "#### Displaying the first ten records of the dataset"
   ]
  },
  {
   "cell_type": "code",
   "execution_count": 10,
   "id": "6825b39e-7902-4fb2-a5eb-2423b06eee12",
   "metadata": {},
   "outputs": [
    {
     "data": {
      "text/html": [
       "<div>\n",
       "<style scoped>\n",
       "    .dataframe tbody tr th:only-of-type {\n",
       "        vertical-align: middle;\n",
       "    }\n",
       "\n",
       "    .dataframe tbody tr th {\n",
       "        vertical-align: top;\n",
       "    }\n",
       "\n",
       "    .dataframe thead th {\n",
       "        text-align: right;\n",
       "    }\n",
       "</style>\n",
       "<table border=\"1\" class=\"dataframe\">\n",
       "  <thead>\n",
       "    <tr style=\"text-align: right;\">\n",
       "      <th></th>\n",
       "      <th>ID</th>\n",
       "      <th>Store ID</th>\n",
       "      <th>Total Price</th>\n",
       "      <th>Base Price</th>\n",
       "      <th>Units Sold</th>\n",
       "    </tr>\n",
       "  </thead>\n",
       "  <tbody>\n",
       "    <tr>\n",
       "      <th>0</th>\n",
       "      <td>1</td>\n",
       "      <td>8091</td>\n",
       "      <td>99.0375</td>\n",
       "      <td>111.8625</td>\n",
       "      <td>20</td>\n",
       "    </tr>\n",
       "    <tr>\n",
       "      <th>1</th>\n",
       "      <td>2</td>\n",
       "      <td>8091</td>\n",
       "      <td>99.0375</td>\n",
       "      <td>99.0375</td>\n",
       "      <td>28</td>\n",
       "    </tr>\n",
       "    <tr>\n",
       "      <th>2</th>\n",
       "      <td>3</td>\n",
       "      <td>8091</td>\n",
       "      <td>133.9500</td>\n",
       "      <td>133.9500</td>\n",
       "      <td>19</td>\n",
       "    </tr>\n",
       "    <tr>\n",
       "      <th>3</th>\n",
       "      <td>4</td>\n",
       "      <td>8091</td>\n",
       "      <td>133.9500</td>\n",
       "      <td>133.9500</td>\n",
       "      <td>44</td>\n",
       "    </tr>\n",
       "    <tr>\n",
       "      <th>4</th>\n",
       "      <td>5</td>\n",
       "      <td>8091</td>\n",
       "      <td>141.0750</td>\n",
       "      <td>141.0750</td>\n",
       "      <td>52</td>\n",
       "    </tr>\n",
       "    <tr>\n",
       "      <th>5</th>\n",
       "      <td>9</td>\n",
       "      <td>8091</td>\n",
       "      <td>227.2875</td>\n",
       "      <td>227.2875</td>\n",
       "      <td>18</td>\n",
       "    </tr>\n",
       "    <tr>\n",
       "      <th>6</th>\n",
       "      <td>10</td>\n",
       "      <td>8091</td>\n",
       "      <td>327.0375</td>\n",
       "      <td>327.0375</td>\n",
       "      <td>47</td>\n",
       "    </tr>\n",
       "    <tr>\n",
       "      <th>7</th>\n",
       "      <td>13</td>\n",
       "      <td>8091</td>\n",
       "      <td>210.9000</td>\n",
       "      <td>210.9000</td>\n",
       "      <td>50</td>\n",
       "    </tr>\n",
       "    <tr>\n",
       "      <th>8</th>\n",
       "      <td>14</td>\n",
       "      <td>8091</td>\n",
       "      <td>190.2375</td>\n",
       "      <td>234.4125</td>\n",
       "      <td>82</td>\n",
       "    </tr>\n",
       "    <tr>\n",
       "      <th>9</th>\n",
       "      <td>17</td>\n",
       "      <td>8095</td>\n",
       "      <td>99.0375</td>\n",
       "      <td>99.0375</td>\n",
       "      <td>99</td>\n",
       "    </tr>\n",
       "  </tbody>\n",
       "</table>\n",
       "</div>"
      ],
      "text/plain": [
       "   ID  Store ID  Total Price  Base Price  Units Sold\n",
       "0   1      8091      99.0375    111.8625          20\n",
       "1   2      8091      99.0375     99.0375          28\n",
       "2   3      8091     133.9500    133.9500          19\n",
       "3   4      8091     133.9500    133.9500          44\n",
       "4   5      8091     141.0750    141.0750          52\n",
       "5   9      8091     227.2875    227.2875          18\n",
       "6  10      8091     327.0375    327.0375          47\n",
       "7  13      8091     210.9000    210.9000          50\n",
       "8  14      8091     190.2375    234.4125          82\n",
       "9  17      8095      99.0375     99.0375          99"
      ]
     },
     "execution_count": 10,
     "metadata": {},
     "output_type": "execute_result"
    }
   ],
   "source": [
    "data.head(10)"
   ]
  },
  {
   "cell_type": "markdown",
   "id": "eb72b4ee-6229-4dbd-86bb-943db0842f22",
   "metadata": {},
   "source": [
    "#### Displaying the last ten records of the dataset"
   ]
  },
  {
   "cell_type": "code",
   "execution_count": 8,
   "id": "c08c5978-2ae4-4ee6-8c03-79260f8d96d1",
   "metadata": {},
   "outputs": [
    {
     "data": {
      "text/html": [
       "<div>\n",
       "<style scoped>\n",
       "    .dataframe tbody tr th:only-of-type {\n",
       "        vertical-align: middle;\n",
       "    }\n",
       "\n",
       "    .dataframe tbody tr th {\n",
       "        vertical-align: top;\n",
       "    }\n",
       "\n",
       "    .dataframe thead th {\n",
       "        text-align: right;\n",
       "    }\n",
       "</style>\n",
       "<table border=\"1\" class=\"dataframe\">\n",
       "  <thead>\n",
       "    <tr style=\"text-align: right;\">\n",
       "      <th></th>\n",
       "      <th>ID</th>\n",
       "      <th>Store ID</th>\n",
       "      <th>Total Price</th>\n",
       "      <th>Base Price</th>\n",
       "      <th>Units Sold</th>\n",
       "    </tr>\n",
       "  </thead>\n",
       "  <tbody>\n",
       "    <tr>\n",
       "      <th>150140</th>\n",
       "      <td>212633</td>\n",
       "      <td>9984</td>\n",
       "      <td>327.0375</td>\n",
       "      <td>327.0375</td>\n",
       "      <td>15</td>\n",
       "    </tr>\n",
       "    <tr>\n",
       "      <th>150141</th>\n",
       "      <td>212634</td>\n",
       "      <td>9984</td>\n",
       "      <td>163.8750</td>\n",
       "      <td>210.9000</td>\n",
       "      <td>204</td>\n",
       "    </tr>\n",
       "    <tr>\n",
       "      <th>150142</th>\n",
       "      <td>212635</td>\n",
       "      <td>9984</td>\n",
       "      <td>205.9125</td>\n",
       "      <td>205.9125</td>\n",
       "      <td>20</td>\n",
       "    </tr>\n",
       "    <tr>\n",
       "      <th>150143</th>\n",
       "      <td>212636</td>\n",
       "      <td>9984</td>\n",
       "      <td>205.9125</td>\n",
       "      <td>205.9125</td>\n",
       "      <td>12</td>\n",
       "    </tr>\n",
       "    <tr>\n",
       "      <th>150144</th>\n",
       "      <td>212637</td>\n",
       "      <td>9984</td>\n",
       "      <td>239.4000</td>\n",
       "      <td>239.4000</td>\n",
       "      <td>23</td>\n",
       "    </tr>\n",
       "    <tr>\n",
       "      <th>150145</th>\n",
       "      <td>212638</td>\n",
       "      <td>9984</td>\n",
       "      <td>235.8375</td>\n",
       "      <td>235.8375</td>\n",
       "      <td>38</td>\n",
       "    </tr>\n",
       "    <tr>\n",
       "      <th>150146</th>\n",
       "      <td>212639</td>\n",
       "      <td>9984</td>\n",
       "      <td>235.8375</td>\n",
       "      <td>235.8375</td>\n",
       "      <td>30</td>\n",
       "    </tr>\n",
       "    <tr>\n",
       "      <th>150147</th>\n",
       "      <td>212642</td>\n",
       "      <td>9984</td>\n",
       "      <td>357.6750</td>\n",
       "      <td>483.7875</td>\n",
       "      <td>31</td>\n",
       "    </tr>\n",
       "    <tr>\n",
       "      <th>150148</th>\n",
       "      <td>212643</td>\n",
       "      <td>9984</td>\n",
       "      <td>141.7875</td>\n",
       "      <td>191.6625</td>\n",
       "      <td>12</td>\n",
       "    </tr>\n",
       "    <tr>\n",
       "      <th>150149</th>\n",
       "      <td>212644</td>\n",
       "      <td>9984</td>\n",
       "      <td>234.4125</td>\n",
       "      <td>234.4125</td>\n",
       "      <td>15</td>\n",
       "    </tr>\n",
       "  </tbody>\n",
       "</table>\n",
       "</div>"
      ],
      "text/plain": [
       "            ID  Store ID  Total Price  Base Price  Units Sold\n",
       "150140  212633      9984     327.0375    327.0375          15\n",
       "150141  212634      9984     163.8750    210.9000         204\n",
       "150142  212635      9984     205.9125    205.9125          20\n",
       "150143  212636      9984     205.9125    205.9125          12\n",
       "150144  212637      9984     239.4000    239.4000          23\n",
       "150145  212638      9984     235.8375    235.8375          38\n",
       "150146  212639      9984     235.8375    235.8375          30\n",
       "150147  212642      9984     357.6750    483.7875          31\n",
       "150148  212643      9984     141.7875    191.6625          12\n",
       "150149  212644      9984     234.4125    234.4125          15"
      ]
     },
     "execution_count": 8,
     "metadata": {},
     "output_type": "execute_result"
    }
   ],
   "source": [
    "data.tail(10)"
   ]
  },
  {
   "cell_type": "markdown",
   "id": "f7c2d8e6-e43e-477c-b0a3-72484705df1f",
   "metadata": {},
   "source": [
    "#### Describing the data from the dataset"
   ]
  },
  {
   "cell_type": "code",
   "execution_count": 24,
   "id": "506a589e-b89a-4ff2-983d-fcd99d2d3f11",
   "metadata": {},
   "outputs": [
    {
     "data": {
      "text/html": [
       "<div>\n",
       "<style scoped>\n",
       "    .dataframe tbody tr th:only-of-type {\n",
       "        vertical-align: middle;\n",
       "    }\n",
       "\n",
       "    .dataframe tbody tr th {\n",
       "        vertical-align: top;\n",
       "    }\n",
       "\n",
       "    .dataframe thead th {\n",
       "        text-align: right;\n",
       "    }\n",
       "</style>\n",
       "<table border=\"1\" class=\"dataframe\">\n",
       "  <thead>\n",
       "    <tr style=\"text-align: right;\">\n",
       "      <th></th>\n",
       "      <th>ID</th>\n",
       "      <th>Store ID</th>\n",
       "      <th>Total Price</th>\n",
       "      <th>Base Price</th>\n",
       "      <th>Units Sold</th>\n",
       "      <th>missing_price</th>\n",
       "    </tr>\n",
       "  </thead>\n",
       "  <tbody>\n",
       "    <tr>\n",
       "      <th>count</th>\n",
       "      <td>150149.000000</td>\n",
       "      <td>150149.000000</td>\n",
       "      <td>150149.000000</td>\n",
       "      <td>150149.000000</td>\n",
       "      <td>150149.000000</td>\n",
       "      <td>150149.0</td>\n",
       "    </tr>\n",
       "    <tr>\n",
       "      <th>mean</th>\n",
       "      <td>106270.971795</td>\n",
       "      <td>9199.420935</td>\n",
       "      <td>206.626751</td>\n",
       "      <td>219.424262</td>\n",
       "      <td>51.674543</td>\n",
       "      <td>0.0</td>\n",
       "    </tr>\n",
       "    <tr>\n",
       "      <th>std</th>\n",
       "      <td>61385.825580</td>\n",
       "      <td>615.593192</td>\n",
       "      <td>103.308516</td>\n",
       "      <td>110.960204</td>\n",
       "      <td>60.207962</td>\n",
       "      <td>0.0</td>\n",
       "    </tr>\n",
       "    <tr>\n",
       "      <th>min</th>\n",
       "      <td>1.000000</td>\n",
       "      <td>8023.000000</td>\n",
       "      <td>41.325000</td>\n",
       "      <td>61.275000</td>\n",
       "      <td>1.000000</td>\n",
       "      <td>0.0</td>\n",
       "    </tr>\n",
       "    <tr>\n",
       "      <th>25%</th>\n",
       "      <td>53111.000000</td>\n",
       "      <td>8562.000000</td>\n",
       "      <td>130.387500</td>\n",
       "      <td>133.237500</td>\n",
       "      <td>20.000000</td>\n",
       "      <td>0.0</td>\n",
       "    </tr>\n",
       "    <tr>\n",
       "      <th>50%</th>\n",
       "      <td>106226.000000</td>\n",
       "      <td>9371.000000</td>\n",
       "      <td>198.075000</td>\n",
       "      <td>205.912500</td>\n",
       "      <td>35.000000</td>\n",
       "      <td>0.0</td>\n",
       "    </tr>\n",
       "    <tr>\n",
       "      <th>75%</th>\n",
       "      <td>159452.000000</td>\n",
       "      <td>9731.000000</td>\n",
       "      <td>233.700000</td>\n",
       "      <td>234.412500</td>\n",
       "      <td>62.000000</td>\n",
       "      <td>0.0</td>\n",
       "    </tr>\n",
       "    <tr>\n",
       "      <th>max</th>\n",
       "      <td>212644.000000</td>\n",
       "      <td>9984.000000</td>\n",
       "      <td>562.162500</td>\n",
       "      <td>562.162500</td>\n",
       "      <td>2876.000000</td>\n",
       "      <td>0.0</td>\n",
       "    </tr>\n",
       "  </tbody>\n",
       "</table>\n",
       "</div>"
      ],
      "text/plain": [
       "                  ID       Store ID    Total Price     Base Price  \\\n",
       "count  150149.000000  150149.000000  150149.000000  150149.000000   \n",
       "mean   106270.971795    9199.420935     206.626751     219.424262   \n",
       "std     61385.825580     615.593192     103.308516     110.960204   \n",
       "min         1.000000    8023.000000      41.325000      61.275000   \n",
       "25%     53111.000000    8562.000000     130.387500     133.237500   \n",
       "50%    106226.000000    9371.000000     198.075000     205.912500   \n",
       "75%    159452.000000    9731.000000     233.700000     234.412500   \n",
       "max    212644.000000    9984.000000     562.162500     562.162500   \n",
       "\n",
       "          Units Sold  missing_price  \n",
       "count  150149.000000       150149.0  \n",
       "mean       51.674543            0.0  \n",
       "std        60.207962            0.0  \n",
       "min         1.000000            0.0  \n",
       "25%        20.000000            0.0  \n",
       "50%        35.000000            0.0  \n",
       "75%        62.000000            0.0  \n",
       "max      2876.000000            0.0  "
      ]
     },
     "execution_count": 24,
     "metadata": {},
     "output_type": "execute_result"
    }
   ],
   "source": [
    "data.describe()"
   ]
  },
  {
   "cell_type": "markdown",
   "id": "4c2f5e1e-0573-4bff-8500-0b006c262df7",
   "metadata": {},
   "source": [
    "#### Describing the cloumns"
   ]
  },
  {
   "cell_type": "code",
   "execution_count": 3,
   "id": "1ddbcdda-07a1-456c-8e55-bfbd1d924cf5",
   "metadata": {},
   "outputs": [
    {
     "name": "stdout",
     "output_type": "stream",
     "text": [
      "<class 'pandas.core.frame.DataFrame'>\n",
      "RangeIndex: 150150 entries, 0 to 150149\n",
      "Data columns (total 5 columns):\n",
      " #   Column       Non-Null Count   Dtype  \n",
      "---  ------       --------------   -----  \n",
      " 0   ID           150150 non-null  int64  \n",
      " 1   Store ID     150150 non-null  int64  \n",
      " 2   Total Price  150149 non-null  float64\n",
      " 3   Base Price   150150 non-null  float64\n",
      " 4   Units Sold   150150 non-null  int64  \n",
      "dtypes: float64(2), int64(3)\n",
      "memory usage: 5.7 MB\n",
      "None\n"
     ]
    }
   ],
   "source": [
    "print(data.info())"
   ]
  },
  {
   "cell_type": "markdown",
   "id": "d9157f17-f362-4c05-abff-90b67b0f67c2",
   "metadata": {},
   "source": [
    "#### Checking for null values in the dataset"
   ]
  },
  {
   "cell_type": "code",
   "execution_count": 4,
   "id": "cd2a14e7-d0f0-4b75-8bb4-3a5cfabc7d2d",
   "metadata": {},
   "outputs": [
    {
     "data": {
      "text/plain": [
       "ID             0\n",
       "Store ID       0\n",
       "Total Price    1\n",
       "Base Price     0\n",
       "Units Sold     0\n",
       "dtype: int64"
      ]
     },
     "execution_count": 4,
     "metadata": {},
     "output_type": "execute_result"
    }
   ],
   "source": [
    "data.isnull().sum()"
   ]
  },
  {
   "cell_type": "markdown",
   "id": "5d4f306d-3041-425f-9ccf-8ea171b1af4f",
   "metadata": {},
   "source": [
    "#### Dropping null values from the dataset"
   ]
  },
  {
   "cell_type": "code",
   "execution_count": 22,
   "id": "b5e6e167-1986-480a-86cf-0a3e87339e6e",
   "metadata": {},
   "outputs": [],
   "source": [
    "data = data.dropna()"
   ]
  }
 ],
 "metadata": {
  "kernelspec": {
   "display_name": "Python 3 (ipykernel)",
   "language": "python",
   "name": "python3"
  },
  "language_info": {
   "codemirror_mode": {
    "name": "ipython",
    "version": 3
   },
   "file_extension": ".py",
   "mimetype": "text/x-python",
   "name": "python",
   "nbconvert_exporter": "python",
   "pygments_lexer": "ipython3",
   "version": "3.12.0"
  }
 },
 "nbformat": 4,
 "nbformat_minor": 5
}
